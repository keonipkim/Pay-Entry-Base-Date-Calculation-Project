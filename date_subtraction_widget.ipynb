{
 "cells": [
  {
   "cell_type": "markdown",
   "metadata": {},
   "source": [
    "## Code Explanation: Date Subtraction with Interactive Widgets\n",
    "\n",
    "This code creates an interactive interface using `ipywidgets` that allows users to input a date and a duration (years, months, days) to subtract from that date. Here’s a breakdown of what each part of the code does:\n",
    "\n",
    "### 1. **Import Libraries**\n",
    "   - `from datetime import datetime`: Imports the `datetime` module to work with date and time objects.\n",
    "   - `from dateutil.relativedelta import relativedelta`: Imports `relativedelta` from `dateutil` to handle date arithmetic involving years and months.\n",
    "   - `import ipywidgets as widgets`: Imports the `ipywidgets` library to create interactive widgets.\n",
    "   - `from IPython.display import display`: Imports `display` to render widgets in the Jupyter Notebook.\n",
    "\n",
    "### 2. **Date Subtraction Function**\n",
    "   - `subtract_date_exclusive(years, months, days, start_date)`: This function takes a number of years, months, days, and a start date, and calculates a new date by subtracting the given duration.\n",
    "   - It parses the `start_date` (if it’s provided as a string) into a `datetime` object.\n",
    "   - It then subtracts the specified years, months, and days using `relativedelta`, considering the subtraction to be exclusive of the start date.\n",
    "\n",
    "### 3. **Widgets for User Input**\n",
    "   - `start_date_widget`: A `Text` widget where users input the start date in `YYYY-MM-DD` format.\n",
    "   - `years_widget`, `months_widget`, `days_widget`: `IntText` widgets for inputting the number of years, months, and days to subtract.\n",
    "   - `calculate_button`: A `Button` widget labeled \"Calculate\" that triggers the subtraction when clicked.\n",
    "   - `reset_button`: A `Button` widget labeled \"Reset\" that resets all input fields to their default values.\n",
    "\n",
    "### 4. **Event Handlers for Buttons**\n",
    "   - `on_calculate_clicked(b)`: This function runs when the \"Calculate\" button is clicked. It reads the values from the input widgets, performs the date subtraction using `subtract_date_exclusive`, and prints the resulting date.\n",
    "   - `on_reset_clicked(b)`: This function runs when the \"Reset\" button is clicked. It resets all input fields to their default values and prints a message indicating that the inputs have been reset.\n",
    "\n",
    "### 5. **Display the Widgets**\n",
    "   - `display(...)`: This function displays the input fields and buttons in the Jupyter Notebook. It allows the user to interact with the widgets directly.\n",
    "\n",
    "### Usage\n",
    "- Input the **start date**, **years**, **months**, and **days** in the respective fields.\n",
    "- Click **\"Calculate\"** to see the resulting date after subtraction.\n",
    "- Click **\"Reset\"** to reset all inputs to their initial values.\n",
    "\n",
    "This setup provides an intuitive way to interact with date calculations and see the results dynamically in a Jupyter Notebook environment.\n"
   ]
  },
  {
   "cell_type": "code",
   "execution_count": 1,
   "metadata": {},
   "outputs": [
    {
     "data": {
      "application/vnd.jupyter.widget-view+json": {
       "model_id": "11433af65a354daba2bd733e2307bfed",
       "version_major": 2,
       "version_minor": 0
      },
      "text/plain": [
       "Text(value='2021-02-01', description='Start Date (YYYY-MM-DD):')"
      ]
     },
     "metadata": {},
     "output_type": "display_data"
    },
    {
     "data": {
      "application/vnd.jupyter.widget-view+json": {
       "model_id": "e6e459c5adfe40cf9b1c07d891e02a68",
       "version_major": 2,
       "version_minor": 0
      },
      "text/plain": [
       "IntText(value=0, description='Years:')"
      ]
     },
     "metadata": {},
     "output_type": "display_data"
    },
    {
     "data": {
      "application/vnd.jupyter.widget-view+json": {
       "model_id": "3707cb102f954a0494019717fed66a31",
       "version_major": 2,
       "version_minor": 0
      },
      "text/plain": [
       "IntText(value=0, description='Months:')"
      ]
     },
     "metadata": {},
     "output_type": "display_data"
    },
    {
     "data": {
      "application/vnd.jupyter.widget-view+json": {
       "model_id": "cb68d89d1fe94638bf4f6da591492d46",
       "version_major": 2,
       "version_minor": 0
      },
      "text/plain": [
       "IntText(value=0, description='Days:')"
      ]
     },
     "metadata": {},
     "output_type": "display_data"
    },
    {
     "data": {
      "application/vnd.jupyter.widget-view+json": {
       "model_id": "39162dd9c5f543ed9fba7d93ddce1df2",
       "version_major": 2,
       "version_minor": 0
      },
      "text/plain": [
       "Button(description='Calculate', style=ButtonStyle())"
      ]
     },
     "metadata": {},
     "output_type": "display_data"
    },
    {
     "data": {
      "application/vnd.jupyter.widget-view+json": {
       "model_id": "4b276047b0684cbbbe0887c4f7e818a7",
       "version_major": 2,
       "version_minor": 0
      },
      "text/plain": [
       "Button(button_style='danger', description='Reset', style=ButtonStyle())"
      ]
     },
     "metadata": {},
     "output_type": "display_data"
    },
    {
     "name": "stdout",
     "output_type": "stream",
     "text": [
      "New date (exclusive of 2021-02-01): 2013-12-11\n"
     ]
    }
   ],
   "source": [
    "from datetime import datetime\n",
    "from dateutil.relativedelta import relativedelta\n",
    "import ipywidgets as widgets\n",
    "from IPython.display import display\n",
    "\n",
    "def subtract_date_exclusive(years, months, days, start_date):\n",
    "    # Parse the start date if it's not already a datetime object\n",
    "    if isinstance(start_date, str):\n",
    "        start_date = datetime.strptime(start_date, \"%Y-%m-%d\")\n",
    "    \n",
    "    # Start the subtraction from the day after the start date\n",
    "    new_date = start_date - relativedelta(years=years, months=months, days=days + 1)\n",
    "\n",
    "    # Return the new date in the same format\n",
    "    return new_date.strftime(\"%Y-%m-%d\")\n",
    "\n",
    "# Create widgets for input\n",
    "start_date_widget = widgets.Text(value='2021-02-01', description='Start Date (YYYY-MM-DD):')\n",
    "years_widget = widgets.IntText(value=0, description='Years:')\n",
    "months_widget = widgets.IntText(value=0, description='Months:')\n",
    "days_widget = widgets.IntText(value=0, description='Days:')\n",
    "calculate_button = widgets.Button(description='Calculate')\n",
    "reset_button = widgets.Button(description='Reset', button_style='danger')\n",
    "\n",
    "# Function to handle the calculate button click\n",
    "def on_calculate_clicked(b):\n",
    "    start_date = start_date_widget.value\n",
    "    years = years_widget.value\n",
    "    months = months_widget.value\n",
    "    days = days_widget.value\n",
    "    result_date = subtract_date_exclusive(years, months, days, start_date)\n",
    "    print(f\"New date (exclusive of {start_date}): {result_date}\")\n",
    "\n",
    "# Function to handle the reset button click\n",
    "def on_reset_clicked(b):\n",
    "    start_date_widget.value = '2021-02-01'\n",
    "    years_widget.value = 7\n",
    "    months_widget.value = 1\n",
    "    days_widget.value = 20\n",
    "    print(\"Inputs have been reset.\")\n",
    "\n",
    "# Attach event handlers to the buttons\n",
    "calculate_button.on_click(on_calculate_clicked)\n",
    "reset_button.on_click(on_reset_clicked)\n",
    "\n",
    "# Display the widgets\n",
    "display(start_date_widget, years_widget, months_widget, days_widget, calculate_button, reset_button)\n"
   ]
  }
 ],
 "metadata": {
  "kernelspec": {
   "display_name": "Python 3",
   "language": "python",
   "name": "python3"
  },
  "language_info": {
   "codemirror_mode": {
    "name": "ipython",
    "version": 3
   },
   "file_extension": ".py",
   "mimetype": "text/x-python",
   "name": "python",
   "nbconvert_exporter": "python",
   "pygments_lexer": "ipython3",
   "version": "3.12.2"
  }
 },
 "nbformat": 4,
 "nbformat_minor": 2
}

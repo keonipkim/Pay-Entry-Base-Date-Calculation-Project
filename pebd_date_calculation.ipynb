{
 "cells": [
  {
   "cell_type": "code",
   "execution_count": 3,
   "metadata": {},
   "outputs": [
    {
     "name": "stdout",
     "output_type": "stream",
     "text": [
      "Resulting date using the 30-day month calculation is: 2013-12-12\n",
      "Total Days (Inclusive): 2570\n",
      "Detailed Breakdown by Periods:\n",
      "2008-08-04 to 2013-08-03: 1800 days, Breakdown: {'Years': 4, 'Months': 11, 'Days': 30}\n",
      "2013-08-04 to 2015-09-23: 770 days, Breakdown: {'Years': 2, 'Months': 1, 'Days': 20}\n",
      "Final Breakdown of Days Subtracted: {'Years': 7, 'Months': 1, 'Days': 20}\n"
     ]
    }
   ],
   "source": [
    "from datetime import datetime, timedelta\n",
    "\n",
    "def days_30_months_inclusive(start_date, end_date):\n",
    "    # Convert dates to datetime objects\n",
    "    start = datetime.strptime(start_date, \"%Y-%m-%d\")\n",
    "    end = datetime.strptime(end_date, \"%Y-%m-%d\")\n",
    "    \n",
    "    # Calculate year and month differences\n",
    "    years = end.year - start.year\n",
    "    months = end.month - start.month\n",
    "    days = end.day - start.day\n",
    "    \n",
    "    # Adjust days difference if it's negative (borrow from months)\n",
    "    if days < 0:\n",
    "        days += 30\n",
    "        months -= 1\n",
    "    \n",
    "    # Adjust months difference if it's negative (borrow from years)\n",
    "    if months < 0:\n",
    "        months += 12\n",
    "        years -= 1\n",
    "    \n",
    "    # Total days, assuming 360 days per year and 30 days per month\n",
    "    # Adding 1 to make the calculation inclusive of both start and end dates\n",
    "    total_days = years * 360 + months * 30 + days + 1\n",
    "    \n",
    "    # Return both the total days and the breakdown\n",
    "    return total_days, {\"Years\": years, \"Months\": months, \"Days\": days + 1}\n",
    "\n",
    "def subtract_30_day_months(start_date, days):\n",
    "    # Convert the start date to a datetime object\n",
    "    start = datetime.strptime(start_date, \"%Y-%m-%d\")\n",
    "    \n",
    "    # Calculate total months and remaining days from the given days\n",
    "    total_months = days // 30\n",
    "    remaining_days = days % 30\n",
    "    \n",
    "    # Calculate the new year and month\n",
    "    new_year = start.year - total_months // 12\n",
    "    new_month = start.month - total_months % 12\n",
    "    \n",
    "    # Adjust the year if the month calculation results in months less than 1\n",
    "    if new_month < 1:\n",
    "        new_year -= 1\n",
    "        new_month += 12\n",
    "    \n",
    "    # Create a new date with adjusted month and subtract the remaining days\n",
    "    new_date = datetime(new_year, new_month, start.day) - timedelta(days=remaining_days)\n",
    "    \n",
    "    return new_date.strftime(\"%Y-%m-%d\"), {\n",
    "        \"Years\": total_months // 12,\n",
    "        \"Months\": total_months % 12,\n",
    "        \"Days\": remaining_days\n",
    "    }\n",
    "\n",
    "def calculate_total_days_and_result_from_periods(date_ranges, reference_start_date):\n",
    "    # Calculate the total days from all given date ranges and get breakdowns\n",
    "    total_days = 0\n",
    "    breakdowns = []\n",
    "    for start_date, end_date in date_ranges:\n",
    "        days, breakdown = days_30_months_inclusive(start_date, end_date)\n",
    "        breakdowns.append({\n",
    "            \"Period\": f\"{start_date} to {end_date}\",\n",
    "            \"Days\": days,\n",
    "            \"Breakdown\": breakdown\n",
    "        })\n",
    "        total_days += days\n",
    "\n",
    "    # Subtract those days from the reference start date and get the breakdown\n",
    "    result_date, result_breakdown = subtract_30_day_months(reference_start_date, total_days)\n",
    "\n",
    "    # Return the final date, total days, and detailed breakdowns\n",
    "    return result_date, total_days, breakdowns, result_breakdown\n",
    "\n",
    "# Define the date ranges for testing\n",
    "date_ranges = [\n",
    "    (\"2008-08-04\", \"2013-08-03\"),\n",
    "    (\"2013-08-04\", \"2015-09-23\")\n",
    "]\n",
    "\n",
    "# Reference start date\n",
    "reference_start_date = \"2021-02-01\"\n",
    "\n",
    "# Get the result, total days, and detailed breakdowns\n",
    "final_result_date, total_days_inclusive, detailed_breakdowns, final_result_breakdown = calculate_total_days_and_result_from_periods(\n",
    "    date_ranges, reference_start_date\n",
    ")\n",
    "\n",
    "# Output the detailed results\n",
    "print(f\"Resulting date using the 30-day month calculation is: {final_result_date}\")\n",
    "print(f\"Total Days (Inclusive): {total_days_inclusive}\")\n",
    "print(\"Detailed Breakdown by Periods:\")\n",
    "for breakdown in detailed_breakdowns:\n",
    "    print(f\"{breakdown['Period']}: {breakdown['Days']} days, Breakdown: {breakdown['Breakdown']}\")\n",
    "print(f\"Final Breakdown of Days Subtracted: {final_result_breakdown}\")\n"
   ]
  },
  {
   "cell_type": "markdown",
   "metadata": {},
   "source": [
    "### Explanation:\n",
    "\n",
    "**`days_30_months_inclusive` Function:**\n",
    "- Calculates the total days between `start_date` and `end_date` using the assumption that each month has **30 days** and each year has **360 days**.\n",
    "- Adjusts for negative day and month values by borrowing from the next unit (e.g., borrows **30 days** from a month if days are negative).\n",
    "\n",
    "**`subtract_30_day_months` Function:**\n",
    "- Subtracts the calculated total days from the **reference date**, adjusting the year and month based on the **30-day month assumption**.\n",
    "- Handles cases where months go below **1** (e.g., borrows a year to adjust).\n",
    "\n",
    "**How This Affects the Calculation:**\n",
    "- The code assumes a simplified **30-day month model** rather than using the exact **calendar year model**.\n",
    "- This approach treats all months equally (**30 days**) and simplifies the arithmetic.\n",
    "- It results in a different outcome compared to using **actual calendar days**, as it does not account for variations in month lengths or leap years.\n"
   ]
  },
  {
   "cell_type": "code",
   "execution_count": 8,
   "metadata": {},
   "outputs": [
    {
     "data": {
      "application/vnd.jupyter.widget-view+json": {
       "model_id": "c63a198367c548109f61f28820e43273",
       "version_major": 2,
       "version_minor": 0
      },
      "text/plain": [
       "Text(value='2021-02-01', description='Reference Start Date (YYYY-MM-DD):')"
      ]
     },
     "metadata": {},
     "output_type": "display_data"
    },
    {
     "data": {
      "application/vnd.jupyter.widget-view+json": {
       "model_id": "23c28fd99a344355a6fda973a3edeb57",
       "version_major": 2,
       "version_minor": 0
      },
      "text/plain": [
       "HTML(value='<b>Period 1</b>')"
      ]
     },
     "metadata": {},
     "output_type": "display_data"
    },
    {
     "data": {
      "application/vnd.jupyter.widget-view+json": {
       "model_id": "cac580caafb348bf8f6c2b855477645e",
       "version_major": 2,
       "version_minor": 0
      },
      "text/plain": [
       "Text(value='', description='Start Date (YYYY-MM-DD):')"
      ]
     },
     "metadata": {},
     "output_type": "display_data"
    },
    {
     "data": {
      "application/vnd.jupyter.widget-view+json": {
       "model_id": "ca59cafbd898404595f214aed8b68b2e",
       "version_major": 2,
       "version_minor": 0
      },
      "text/plain": [
       "Text(value='', description='End Date (YYYY-MM-DD):')"
      ]
     },
     "metadata": {},
     "output_type": "display_data"
    },
    {
     "data": {
      "application/vnd.jupyter.widget-view+json": {
       "model_id": "764f2733c9584a8486453713c0166fa8",
       "version_major": 2,
       "version_minor": 0
      },
      "text/plain": [
       "HTML(value='<b>Period 2</b>')"
      ]
     },
     "metadata": {},
     "output_type": "display_data"
    },
    {
     "data": {
      "application/vnd.jupyter.widget-view+json": {
       "model_id": "8c747baf74d84c0cb788fb06e022de61",
       "version_major": 2,
       "version_minor": 0
      },
      "text/plain": [
       "Text(value='', description='Start Date (YYYY-MM-DD):')"
      ]
     },
     "metadata": {},
     "output_type": "display_data"
    },
    {
     "data": {
      "application/vnd.jupyter.widget-view+json": {
       "model_id": "f29813eeabdf49c382d280b05db2e54c",
       "version_major": 2,
       "version_minor": 0
      },
      "text/plain": [
       "Text(value='', description='End Date (YYYY-MM-DD):')"
      ]
     },
     "metadata": {},
     "output_type": "display_data"
    },
    {
     "data": {
      "application/vnd.jupyter.widget-view+json": {
       "model_id": "cae1a5840759498d91ddff1e0fc15fb6",
       "version_major": 2,
       "version_minor": 0
      },
      "text/plain": [
       "HTML(value='<b>Period 3</b>')"
      ]
     },
     "metadata": {},
     "output_type": "display_data"
    },
    {
     "data": {
      "application/vnd.jupyter.widget-view+json": {
       "model_id": "dc80b41d6c7a4fbf9dbc3bb1ce1d2293",
       "version_major": 2,
       "version_minor": 0
      },
      "text/plain": [
       "Text(value='', description='Start Date (YYYY-MM-DD):')"
      ]
     },
     "metadata": {},
     "output_type": "display_data"
    },
    {
     "data": {
      "application/vnd.jupyter.widget-view+json": {
       "model_id": "713696813a0d48358ca48674b31bdd0b",
       "version_major": 2,
       "version_minor": 0
      },
      "text/plain": [
       "Text(value='', description='End Date (YYYY-MM-DD):')"
      ]
     },
     "metadata": {},
     "output_type": "display_data"
    },
    {
     "data": {
      "application/vnd.jupyter.widget-view+json": {
       "model_id": "b796b0523c154c7aa762880f72183a20",
       "version_major": 2,
       "version_minor": 0
      },
      "text/plain": [
       "HTML(value='<b>Period 4</b>')"
      ]
     },
     "metadata": {},
     "output_type": "display_data"
    },
    {
     "data": {
      "application/vnd.jupyter.widget-view+json": {
       "model_id": "2efcacb997a14a4c95fb7073cbc3bdb7",
       "version_major": 2,
       "version_minor": 0
      },
      "text/plain": [
       "Text(value='', description='Start Date (YYYY-MM-DD):')"
      ]
     },
     "metadata": {},
     "output_type": "display_data"
    },
    {
     "data": {
      "application/vnd.jupyter.widget-view+json": {
       "model_id": "1a4321cc0a6a4ad494d7a6b46429022a",
       "version_major": 2,
       "version_minor": 0
      },
      "text/plain": [
       "Text(value='', description='End Date (YYYY-MM-DD):')"
      ]
     },
     "metadata": {},
     "output_type": "display_data"
    },
    {
     "data": {
      "application/vnd.jupyter.widget-view+json": {
       "model_id": "9b32d564d33c4670a17ccda5572d86f1",
       "version_major": 2,
       "version_minor": 0
      },
      "text/plain": [
       "HTML(value='<b>Period 5</b>')"
      ]
     },
     "metadata": {},
     "output_type": "display_data"
    },
    {
     "data": {
      "application/vnd.jupyter.widget-view+json": {
       "model_id": "73d11268db7446b8b67fe7fe7747637e",
       "version_major": 2,
       "version_minor": 0
      },
      "text/plain": [
       "Text(value='', description='Start Date (YYYY-MM-DD):')"
      ]
     },
     "metadata": {},
     "output_type": "display_data"
    },
    {
     "data": {
      "application/vnd.jupyter.widget-view+json": {
       "model_id": "9d29a3b099294e6ca3a1c19b56d31284",
       "version_major": 2,
       "version_minor": 0
      },
      "text/plain": [
       "Text(value='', description='End Date (YYYY-MM-DD):')"
      ]
     },
     "metadata": {},
     "output_type": "display_data"
    },
    {
     "data": {
      "application/vnd.jupyter.widget-view+json": {
       "model_id": "4242f9803fa24520ac440137fc658ff1",
       "version_major": 2,
       "version_minor": 0
      },
      "text/plain": [
       "Button(description='Calculate', style=ButtonStyle())"
      ]
     },
     "metadata": {},
     "output_type": "display_data"
    },
    {
     "data": {
      "application/vnd.jupyter.widget-view+json": {
       "model_id": "c8c635f18f1b4c9cae6006970faf68e0",
       "version_major": 2,
       "version_minor": 0
      },
      "text/plain": [
       "Button(description='Reset', style=ButtonStyle())"
      ]
     },
     "metadata": {},
     "output_type": "display_data"
    },
    {
     "name": "stdout",
     "output_type": "stream",
     "text": [
      "Resulting date using 30-day month calculation is: 2013-12-13\n",
      "Total Days (Inclusive): 2568\n",
      "Detailed Breakdown by Periods:\n",
      "2008-08-04 to 2013-08-03: 1799 days, Breakdown: {'Years': 4, 'Months': 11, 'Days': 29}\n",
      "2013-08-04 to 2015-09-23: 769 days, Breakdown: {'Years': 2, 'Months': 1, 'Days': 19}\n",
      "Final Breakdown of Days Subtracted: {'Years': 7, 'Months': 1, 'Days': 18}\n",
      "\n",
      "Inputs have been reset.\n"
     ]
    }
   ],
   "source": [
    "from datetime import datetime, timedelta\n",
    "import ipywidgets as widgets\n",
    "from IPython.display import display\n",
    "\n",
    "# Function to calculate the total days using 30-day month assumptions, excluding the reference date\n",
    "def days_30_months_inclusive(start_date, end_date):\n",
    "    start = datetime.strptime(start_date, \"%Y-%m-%d\")\n",
    "    end = datetime.strptime(end_date, \"%Y-%m-%d\")\n",
    "    \n",
    "    years = end.year - start.year\n",
    "    months = end.month - start.month\n",
    "    days = end.day - start.day\n",
    "    \n",
    "    # Adjust days if negative by borrowing 30 days from months\n",
    "    if days < 0:\n",
    "        days += 30\n",
    "        months -= 1\n",
    "    \n",
    "    # Adjust months if negative by borrowing 12 months from years\n",
    "    if months < 0:\n",
    "        months += 12\n",
    "        years -= 1\n",
    "    \n",
    "    # Calculate the total days, assuming 360 days per year and 30 days per month\n",
    "    total_days = years * 360 + months * 30 + days\n",
    "    \n",
    "    return total_days, {\"Years\": years, \"Months\": months, \"Days\": days}\n",
    "\n",
    "# Function to subtract days using the 30-day month model\n",
    "def subtract_30_day_months(start_date, days):\n",
    "    start = datetime.strptime(start_date, \"%Y-%m-%d\")\n",
    "    total_months = days // 30\n",
    "    remaining_days = days % 30\n",
    "    \n",
    "    # Calculate the new year and month\n",
    "    new_year = start.year - total_months // 12\n",
    "    new_month = start.month - total_months % 12\n",
    "    \n",
    "    # Adjust if new_month goes below 1\n",
    "    if new_month < 1:\n",
    "        new_year -= 1\n",
    "        new_month += 12\n",
    "    \n",
    "    # Create a new date with adjusted year and month, and subtract remaining days\n",
    "    new_date = datetime(new_year, new_month, start.day) - timedelta(days=remaining_days)\n",
    "    \n",
    "    return new_date.strftime(\"%Y-%m-%d\"), {\n",
    "        \"Years\": total_months // 12,\n",
    "        \"Months\": total_months % 12,\n",
    "        \"Days\": remaining_days\n",
    "    }\n",
    "\n",
    "# Function to calculate total days and result date from periods\n",
    "def calculate_total_days_and_result_from_periods(date_ranges, reference_start_date):\n",
    "    total_days = 0\n",
    "    breakdowns = []\n",
    "    for start_date, end_date in date_ranges:\n",
    "        days, breakdown = days_30_months_inclusive(start_date, end_date)\n",
    "        breakdowns.append({\n",
    "            \"Period\": f\"{start_date} to {end_date}\",\n",
    "            \"Days\": days,\n",
    "            \"Breakdown\": breakdown\n",
    "        })\n",
    "        total_days += days\n",
    "\n",
    "    # Subtract those days from the reference start date and get the breakdown\n",
    "    result_date, result_breakdown = subtract_30_day_months(reference_start_date, total_days)\n",
    "    return result_date, total_days, breakdowns, result_breakdown\n",
    "\n",
    "# Create a widget for the reference start date\n",
    "reference_date_widget = widgets.Text(\n",
    "    value='2021-02-01',\n",
    "    description='Reference Start Date (YYYY-MM-DD):',\n",
    "    disabled=False\n",
    ")\n",
    "\n",
    "# Create widgets for up to 5 periods with start and end date fields\n",
    "periods = []\n",
    "for i in range(1, 6):\n",
    "    period_label = widgets.HTML(value=f\"<b>Period {i}</b>\")\n",
    "    start_date_widget = widgets.Text(value='', description='Start Date (YYYY-MM-DD):', disabled=False)\n",
    "    end_date_widget = widgets.Text(value='', description='End Date (YYYY-MM-DD):', disabled=False)\n",
    "    periods.append((period_label, start_date_widget, end_date_widget))\n",
    "\n",
    "# Button to calculate results\n",
    "calculate_button = widgets.Button(description=\"Calculate\")\n",
    "\n",
    "# Button to reset the inputs\n",
    "reset_button = widgets.Button(description=\"Reset\")\n",
    "\n",
    "# Function to handle calculation\n",
    "def on_calculate_click(b):\n",
    "    reference_date = reference_date_widget.value\n",
    "    date_ranges = []\n",
    "    \n",
    "    # Gather all date ranges from the widgets\n",
    "    for i, (label, start_date_widget, end_date_widget) in enumerate(periods):\n",
    "        start_date = start_date_widget.value\n",
    "        end_date = end_date_widget.value\n",
    "        \n",
    "        # Skip empty fields\n",
    "        if not start_date or not end_date:\n",
    "            continue\n",
    "        \n",
    "        date_ranges.append((start_date, end_date))\n",
    "    \n",
    "    # Calculate the total days and resulting date\n",
    "    try:\n",
    "        final_result_date, total_days_inclusive, detailed_breakdowns, final_result_breakdown = calculate_total_days_and_result_from_periods(\n",
    "            date_ranges, reference_date\n",
    "        )\n",
    "        print(f\"Resulting date using 30-day month calculation is: {final_result_date}\")\n",
    "        print(f\"Total Days (Inclusive): {total_days_inclusive}\")\n",
    "        print(\"Detailed Breakdown by Periods:\")\n",
    "        for breakdown in detailed_breakdowns:\n",
    "            print(f\"{breakdown['Period']}: {breakdown['Days']} days, Breakdown: {breakdown['Breakdown']}\")\n",
    "        print(f\"Final Breakdown of Days Subtracted: {final_result_breakdown}\")\n",
    "    except ValueError:\n",
    "        print(\"Invalid date format. Please use YYYY-MM-DD format for all inputs.\")\n",
    "\n",
    "# Function to handle reset\n",
    "def on_reset_click(b):\n",
    "    # Reset the reference start date\n",
    "    reference_date_widget.value = '2021-02-01'\n",
    "    \n",
    "    # Clear all period start and end date widgets\n",
    "    for _, start_date_widget, end_date_widget in periods:\n",
    "        start_date_widget.value = ''\n",
    "        end_date_widget.value = ''\n",
    "    \n",
    "    # Clear any printed output\n",
    "    print(\"\\nInputs have been reset.\")\n",
    "\n",
    "# Link the buttons to their respective functions\n",
    "calculate_button.on_click(on_calculate_click)\n",
    "reset_button.on_click(on_reset_click)\n",
    "\n",
    "# Display the widgets\n",
    "display(reference_date_widget)\n",
    "for widgets_set in periods:\n",
    "    display(*widgets_set)\n",
    "display(calculate_button)\n",
    "display(reset_button)\n"
   ]
  },
  {
   "cell_type": "markdown",
   "metadata": {},
   "source": [
    "### Explanation:\n",
    "\n",
    "**Reset Button:**\n",
    "- Added a new button called `reset_button` with the label **\"Reset\"**.\n",
    "- Defined a function `on_reset_click` that:\n",
    "  - Resets the reference date back to its initial value (`2021-02-01`).\n",
    "  - Clears the start date and end date fields for each period.\n",
    "  - Prints a message indicating that the inputs have been reset.\n",
    "\n",
    "**Calculation Button:**\n",
    "- Updated the calculation button to have a more descriptive function name `on_calculate_click`.\n",
    "\n",
    "**Display:**\n",
    "- Added `display(reset_button)` to show the reset button below the input fields.\n",
    "\n",
    "**How to Use:**\n",
    "1. Enter the dates into the **reference start date** and **period fields**.\n",
    "2. Click **\"Calculate\"** to perform the calculation.\n",
    "3. Click **\"Reset\"** to clear all input fields and reset them to their default values.\n",
    "\n",
    "This adjustment allows you to reset the form easily and try different calculations without manually clearing the fields.\n"
   ]
  },
  {
   "cell_type": "markdown",
   "metadata": {},
   "source": []
  }
 ],
 "metadata": {
  "kernelspec": {
   "display_name": "Python 3",
   "language": "python",
   "name": "python3"
  },
  "language_info": {
   "codemirror_mode": {
    "name": "ipython",
    "version": 3
   },
   "file_extension": ".py",
   "mimetype": "text/x-python",
   "name": "python",
   "nbconvert_exporter": "python",
   "pygments_lexer": "ipython3",
   "version": "3.12.2"
  }
 },
 "nbformat": 4,
 "nbformat_minor": 2
}
